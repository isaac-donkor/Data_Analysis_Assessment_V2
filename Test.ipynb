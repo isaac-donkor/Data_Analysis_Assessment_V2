{
 "cells": [
  {
   "cell_type": "markdown",
   "id": "23f77bff",
   "metadata": {},
   "source": [
    "Import Libraries"
   ]
  },
  {
   "cell_type": "code",
   "execution_count": 1,
   "id": "ba5b550b",
   "metadata": {},
   "outputs": [],
   "source": [
    "from selenium import webdriver\n",
    "from selenium.webdriver.common.by import By\n",
    "from selenium.webdriver.support.ui import WebDriverWait\n",
    "from selenium.webdriver.support import expected_conditions as EC\n",
    "import pandas as pd\n",
    "import time"
   ]
  },
  {
   "cell_type": "markdown",
   "id": "60ece84b",
   "metadata": {},
   "source": [
    "Load Selenium Drivers And Wait 50 secs For Site To Load All Elements"
   ]
  },
  {
   "cell_type": "code",
   "execution_count": 2,
   "id": "76fa15ed",
   "metadata": {},
   "outputs": [],
   "source": [
    "driver = webdriver.Chrome()\n",
    "\n",
    "shop_url = \"https://afroglamourcosmetics.com/\"   \n",
    "driver.get(shop_url)\n",
    "\n",
    "wait = WebDriverWait(driver, 50) #Waited 50secs due to slow internet connection"
   ]
  },
  {
   "cell_type": "markdown",
   "id": "f97b7277",
   "metadata": {},
   "source": [
    "Scrape 10 Products By Looping Through The Page"
   ]
  },
  {
   "cell_type": "code",
   "execution_count": null,
   "id": "1d967a57",
   "metadata": {},
   "outputs": [],
   "source": [
    "\n",
    "wait.until(EC.presence_of_all_elements_located((By.CSS_SELECTOR, \"a.woocommerce-LoopProduct-link\")))\n",
    "product_elements = driver.find_elements(By.CSS_SELECTOR, \"a.woocommerce-LoopProduct-link\")[:10]\n",
    "product_links = [el.get_attribute(\"href\") for el in product_elements]\n",
    "\n",
    "results = []\n",
    "\n",
    "for link in product_links:\n",
    "    driver.get(link)\n",
    "    wait.until(EC.presence_of_element_located((By.CSS_SELECTOR, \"h1.product_title\")))\n",
    "\n",
    "    # --- Product name ---\n",
    "    try:\n",
    "        name = driver.find_element(By.CSS_SELECTOR, \"h1.product_title\").text\n",
    "    except:\n",
    "        name = \"\"\n",
    "\n",
    "    # --- Price ---\n",
    "    try:\n",
    "        price = driver.find_element(By.CSS_SELECTOR, \"p.price span.woocommerce-Price-amount\").text\n",
    "    except:\n",
    "        price = \"\"\n",
    "\n",
    "    # --- Short description ---\n",
    "    try:\n",
    "        desc = driver.find_element(By.CSS_SELECTOR, \"div.woocommerce-product-details__short-description\").text\n",
    "    except:\n",
    "        desc = \"\"\n",
    "\n",
    "    # --- Breadcrumb (brand/category) ---\n",
    "    try:\n",
    "        crumbs = driver.find_elements(By.CSS_SELECTOR, \"nav.woocommerce-breadcrumb a\")\n",
    "        brand = crumbs[-1].text if crumbs else \"\"\n",
    "    except:\n",
    "        brand = \"\"\n",
    "\n",
    "    # --- Images (only from product gallery) ---\n",
    "    img_urls = []\n",
    "    try:\n",
    "        imgs = driver.find_elements(By.CSS_SELECTOR, \"figure.woocommerce-product-gallery__image img\")\n",
    "        img_urls = [img.get_attribute(\"src\") for img in imgs if img.get_attribute(\"src\")]\n",
    "    except:\n",
    "        pass\n",
    "\n",
    "    results.append({\n",
    "        \"Product URL\": link,\n",
    "        \"Brand\": brand,\n",
    "        \"Product name\": name,\n",
    "        \"Ingredients\": \"\",         \n",
    "        \"Product Image\": img_urls,\n",
    "        \"Price\": price,\n",
    "        \"Description\": desc,\n",
    "        \"Product Line Name\": \"\",\n",
    "        \"Barcode\": \"\",\n",
    "        \"Size/Volume\": \"\",\n",
    "        \"Skin Concern\": \"\"\n",
    "    })"
   ]
  },
  {
   "cell_type": "markdown",
   "id": "09ec14e6",
   "metadata": {},
   "source": [
    "Build DataFrame"
   ]
  },
  {
   "cell_type": "code",
   "execution_count": 4,
   "id": "b3f1292c",
   "metadata": {},
   "outputs": [],
   "source": [
    "product_df = pd.DataFrame(results)\n",
    "globals()[\"product_df\"] = product_df"
   ]
  },
  {
   "cell_type": "markdown",
   "id": "dcd9c452",
   "metadata": {},
   "source": [
    "Save To CSV"
   ]
  },
  {
   "cell_type": "code",
   "execution_count": 7,
   "id": "598f79bd",
   "metadata": {},
   "outputs": [
    {
     "name": "stdout",
     "output_type": "stream",
     "text": [
      "Saved 10 products to c:\\Users\\USER\\Documents\\GitHub\\Data_Analysis_Assessment_V2\\products.csv\n",
      "                                         Product URL  \\\n",
      "0  https://afroglamourcosmetics.com/product/caro-...   \n",
      "1  https://afroglamourcosmetics.com/product/caro-...   \n",
      "2  https://afroglamourcosmetics.com/product/makar...   \n",
      "3  https://afroglamourcosmetics.com/product/makar...   \n",
      "4  https://afroglamourcosmetics.com/product/makar...   \n",
      "\n",
      "                                Brand  \\\n",
      "0         Lightening Milk and Lotions   \n",
      "1         Lightening Milk and Lotions   \n",
      "2                        BLUE CRYSTAL   \n",
      "3                        BLUE CRYSTAL   \n",
      "4  NATURALLE CAROTONIC EXTREME SPF 15   \n",
      "\n",
      "                                  Product name Ingredients Product Image  \\\n",
      "0                    Caro White Lightening Set                        []   \n",
      "1                    Caro White Lightening Set                        []   \n",
      "2            Makari Blue Crystal 4-Pc Gift Set                        []   \n",
      "3            Makari Blue Crystal 4-Pc Gift Set                        []   \n",
      "4  Makari Naturalle Carotonic Extreme Gift Set                        []   \n",
      "\n",
      "          Price                                        Description  \\\n",
      "0    AED 125.00  Caro White Lightening Set : Lotion, Cream,Tube...   \n",
      "1    AED 125.00  Caro White Lightening Set : Lotion, Cream,Tube...   \n",
      "2  AED 1,974.00  Makari Blue Crystal 4-Pc Gift Set\\nMakari Blue...   \n",
      "3  AED 1,974.00  Makari Blue Crystal 4-Pc Gift Set\\nMakari Blue...   \n",
      "4    AED 537.00  Makari Naturalle Carotonic Extreme Gift Set\\nU...   \n",
      "\n",
      "  Product Line Name Barcode Size/Volume Skin Concern  \n",
      "0                                                     \n",
      "1                                                     \n",
      "2                                                     \n",
      "3                                                     \n",
      "4                                                     \n"
     ]
    }
   ],
   "source": [
    "\n",
    "import os\n",
    "\n",
    "save_path = os.path.join(os.getcwd(), \"products.csv\")\n",
    "product_df.to_csv(save_path, index=False, encoding=\"utf-8\")\n",
    "\n",
    "print(f\"Saved {len(product_df)} products to {save_path}\")\n",
    "\n",
    "print(product_df.head())"
   ]
  }
 ],
 "metadata": {
  "kernelspec": {
   "display_name": "base",
   "language": "python",
   "name": "python3"
  },
  "language_info": {
   "codemirror_mode": {
    "name": "ipython",
    "version": 3
   },
   "file_extension": ".py",
   "mimetype": "text/x-python",
   "name": "python",
   "nbconvert_exporter": "python",
   "pygments_lexer": "ipython3",
   "version": "3.12.7"
  }
 },
 "nbformat": 4,
 "nbformat_minor": 5
}
