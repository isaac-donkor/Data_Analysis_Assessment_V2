{
 "cells": [
  {
   "cell_type": "code",
   "execution_count": 33,
   "id": "1d967a57",
   "metadata": {},
   "outputs": [],
   "source": [
    "import pandas as pd\n",
    "import time\n",
    "from selenium import webdriver\n",
    "from selenium.webdriver.common.by import By\n",
    "from selenium.webdriver.chrome.service import Service\n",
    "from selenium.webdriver.chrome.options import Options\n",
    "from selenium.webdriver.support.ui import WebDriverWait\n",
    "from selenium.webdriver.support import expected_conditions as EC\n",
    "\n",
    "# --- Setup driver ---\n",
    "chrome_options = Options()\n",
    "chrome_options.add_experimental_option(\"detach\", True)\n",
    "chromedriver_path = r\"C:\\Windows\\chromedriver.exe\"\n",
    "service = Service(chromedriver_path)\n",
    "driver = webdriver.Chrome(service=service, options=chrome_options)\n",
    "\n",
    "# --- Open main shop page ---\n",
    "shop_url = \"https://afroglamourcosmetics.com/\"   # replace with your allowed shop URL\n",
    "driver.get(shop_url)\n",
    "\n",
    "wait = WebDriverWait(driver, 50)\n",
    "\n",
    "# --- Collect first 10 product links ---\n",
    "wait.until(EC.presence_of_all_elements_located((By.CSS_SELECTOR, \"a.woocommerce-LoopProduct-link\")))\n",
    "product_elements = driver.find_elements(By.CSS_SELECTOR, \"a.woocommerce-LoopProduct-link\")[:10]\n",
    "product_links = [el.get_attribute(\"href\") for el in product_elements]\n",
    "\n",
    "results = []\n",
    "\n",
    "for link in product_links:\n",
    "    driver.get(link)\n",
    "    wait.until(EC.presence_of_element_located((By.CSS_SELECTOR, \"h1.product_title\")))\n",
    "\n",
    "    # --- Product name ---\n",
    "    try:\n",
    "        name = driver.find_element(By.CSS_SELECTOR, \"h1.product_title\").text\n",
    "    except:\n",
    "        name = \"\"\n",
    "\n",
    "    # --- Price ---\n",
    "    try:\n",
    "        price = driver.find_element(By.CSS_SELECTOR, \"p.price span.woocommerce-Price-amount\").text\n",
    "    except:\n",
    "        price = \"\"\n",
    "\n",
    "    # --- Short description ---\n",
    "    try:\n",
    "        desc = driver.find_element(By.CSS_SELECTOR, \"div.woocommerce-product-details__short-description\").text\n",
    "    except:\n",
    "        desc = \"\"\n",
    "\n",
    "    # --- Breadcrumb (brand/category) ---\n",
    "    try:\n",
    "        crumbs = driver.find_elements(By.CSS_SELECTOR, \"nav.woocommerce-breadcrumb a\")\n",
    "        brand = crumbs[-1].text if crumbs else \"\"\n",
    "    except:\n",
    "        brand = \"\"\n",
    "\n",
    "    # --- Images (only from product gallery) ---\n",
    "    img_urls = []\n",
    "    try:\n",
    "        imgs = driver.find_elements(By.CSS_SELECTOR, \"figure.woocommerce-product-gallery__image img\")\n",
    "        img_urls = [img.get_attribute(\"src\") for img in imgs if img.get_attribute(\"src\")]\n",
    "    except:\n",
    "        pass\n",
    "\n",
    "    results.append({\n",
    "        \"Product URL\": link,\n",
    "        \"Brand\": brand,\n",
    "        \"Product name\": name,\n",
    "        \"Ingredients\": \"\",         # placeholder unless you know selector\n",
    "        \"Product Image\": img_urls,\n",
    "        \"Price\": price,\n",
    "        \"Description\": desc,\n",
    "        \"Product Line Name\": \"\",\n",
    "        \"Barcode\": \"\",\n",
    "        \"Size/Volume\": \"\",\n",
    "        \"Skin Concern\": \"\"\n",
    "    })"
   ]
  },
  {
   "cell_type": "markdown",
   "id": "09ec14e6",
   "metadata": {},
   "source": [
    "Build DataFrame"
   ]
  },
  {
   "cell_type": "code",
   "execution_count": 34,
   "id": "b3f1292c",
   "metadata": {},
   "outputs": [],
   "source": [
    "product_df = pd.DataFrame(results)\n",
    "globals()[\"product_df\"] = product_df"
   ]
  },
  {
   "cell_type": "markdown",
   "id": "dcd9c452",
   "metadata": {},
   "source": [
    "Save to CSV"
   ]
  },
  {
   "cell_type": "code",
   "execution_count": 37,
   "id": "598f79bd",
   "metadata": {},
   "outputs": [
    {
     "name": "stdout",
     "output_type": "stream",
     "text": [
      "Saved 10 products to C:\\Users\\USER\\Documents\\Script\\products.csv\n",
      "                                         Product URL  \\\n",
      "0  https://afroglamourcosmetics.com/product/caro-...   \n",
      "1  https://afroglamourcosmetics.com/product/caro-...   \n",
      "2  https://afroglamourcosmetics.com/product/makar...   \n",
      "3  https://afroglamourcosmetics.com/product/makar...   \n",
      "4  https://afroglamourcosmetics.com/product/makar...   \n",
      "\n",
      "                                Brand  \\\n",
      "0                Lightening Body Oils   \n",
      "1                Lightening Body Oils   \n",
      "2                        BLUE CRYSTAL   \n",
      "3                        BLUE CRYSTAL   \n",
      "4  NATURALLE CAROTONIC EXTREME SPF 15   \n",
      "\n",
      "                                  Product name Ingredients Product Image  \\\n",
      "0                    Caro White Lightening Set                        []   \n",
      "1                    Caro White Lightening Set                        []   \n",
      "2            Makari Blue Crystal 4-Pc Gift Set                        []   \n",
      "3            Makari Blue Crystal 4-Pc Gift Set                        []   \n",
      "4  Makari Naturalle Carotonic Extreme Gift Set                        []   \n",
      "\n",
      "          Price                                        Description  \\\n",
      "0    AED 125.00  Caro White Lightening Set : Lotion, Cream,Tube...   \n",
      "1    AED 125.00  Caro White Lightening Set : Lotion, Cream,Tube...   \n",
      "2  AED 1,974.00  Makari Blue Crystal 4-Pc Gift Set\\nMakari Blue...   \n",
      "3  AED 1,974.00  Makari Blue Crystal 4-Pc Gift Set\\nMakari Blue...   \n",
      "4    AED 537.00  Makari Naturalle Carotonic Extreme Gift Set\\nU...   \n",
      "\n",
      "  Product Line Name Barcode Size/Volume Skin Concern  \n",
      "0                                                     \n",
      "1                                                     \n",
      "2                                                     \n",
      "3                                                     \n",
      "4                                                     \n"
     ]
    }
   ],
   "source": [
    "\n",
    "save_path = r\"C:\\Users\\USER\\Documents\\Script\\products.csv\"\n",
    "product_df.to_csv(save_path, index=False, encoding=\"utf-8\")\n",
    "\n",
    "print(f\"Saved {len(product_df)} products to {save_path}\")\n",
    "\n",
    "print(product_df.head())"
   ]
  }
 ],
 "metadata": {
  "kernelspec": {
   "display_name": "base",
   "language": "python",
   "name": "python3"
  },
  "language_info": {
   "codemirror_mode": {
    "name": "ipython",
    "version": 3
   },
   "file_extension": ".py",
   "mimetype": "text/x-python",
   "name": "python",
   "nbconvert_exporter": "python",
   "pygments_lexer": "ipython3",
   "version": "3.12.7"
  }
 },
 "nbformat": 4,
 "nbformat_minor": 5
}
